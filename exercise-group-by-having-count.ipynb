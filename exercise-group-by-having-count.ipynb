{
 "cells": [
  {
   "cell_type": "markdown",
   "id": "b0ed7c5d",
   "metadata": {
    "papermill": {
     "duration": 0.004892,
     "end_time": "2024-09-05T14:13:20.089506",
     "exception": false,
     "start_time": "2024-09-05T14:13:20.084614",
     "status": "completed"
    },
    "tags": []
   },
   "source": [
    "**This notebook is an exercise in the [SQL](https://www.kaggle.com/learn/intro-to-sql) course.  You can reference the tutorial at [this link](https://www.kaggle.com/dansbecker/group-by-having-count).**\n",
    "\n",
    "---\n"
   ]
  },
  {
   "cell_type": "markdown",
   "id": "65a22c40",
   "metadata": {
    "papermill": {
     "duration": 0.003584,
     "end_time": "2024-09-05T14:13:20.097526",
     "exception": false,
     "start_time": "2024-09-05T14:13:20.093942",
     "status": "completed"
    },
    "tags": []
   },
   "source": [
    "# Introduction\n",
    "\n",
    "Queries with **GROUP BY** can be powerful. There are many small things that can trip you up (like the order of the clauses), but it will start to feel natural once you've done it a few times. Here, you'll write queries using **GROUP BY** to answer questions from the Hacker News dataset.\n",
    "\n",
    "Before you get started, run the following cell to set everything up:"
   ]
  },
  {
   "cell_type": "code",
   "execution_count": 1,
   "id": "18f13a66",
   "metadata": {
    "execution": {
     "iopub.execute_input": "2024-09-05T14:13:20.108447Z",
     "iopub.status.busy": "2024-09-05T14:13:20.107660Z",
     "iopub.status.idle": "2024-09-05T14:13:28.209591Z",
     "shell.execute_reply": "2024-09-05T14:13:28.208379Z"
    },
    "papermill": {
     "duration": 8.110671,
     "end_time": "2024-09-05T14:13:28.211970",
     "exception": false,
     "start_time": "2024-09-05T14:13:20.101299",
     "status": "completed"
    },
    "tags": []
   },
   "outputs": [
    {
     "name": "stdout",
     "output_type": "stream",
     "text": [
      "Using Kaggle's public dataset BigQuery integration.\n",
      "Setup Complete\n"
     ]
    }
   ],
   "source": [
    "# Set up feedback system\n",
    "from learntools.core import binder\n",
    "binder.bind(globals())\n",
    "from learntools.sql.ex3 import *\n",
    "print(\"Setup Complete\")"
   ]
  },
  {
   "cell_type": "markdown",
   "id": "5264f3bd",
   "metadata": {
    "papermill": {
     "duration": 0.003884,
     "end_time": "2024-09-05T14:13:28.220063",
     "exception": false,
     "start_time": "2024-09-05T14:13:28.216179",
     "status": "completed"
    },
    "tags": []
   },
   "source": [
    "The code cell below fetches the `full` table from the `hacker_news` dataset.  We also preview the first five rows of the table."
   ]
  },
  {
   "cell_type": "code",
   "execution_count": 2,
   "id": "481f7926",
   "metadata": {
    "execution": {
     "iopub.execute_input": "2024-09-05T14:13:28.229990Z",
     "iopub.status.busy": "2024-09-05T14:13:28.229425Z",
     "iopub.status.idle": "2024-09-05T14:13:30.371736Z",
     "shell.execute_reply": "2024-09-05T14:13:30.370684Z"
    },
    "papermill": {
     "duration": 2.149959,
     "end_time": "2024-09-05T14:13:30.374088",
     "exception": false,
     "start_time": "2024-09-05T14:13:28.224129",
     "status": "completed"
    },
    "tags": []
   },
   "outputs": [
    {
     "name": "stdout",
     "output_type": "stream",
     "text": [
      "Using Kaggle's public dataset BigQuery integration.\n"
     ]
    },
    {
     "data": {
      "text/html": [
       "<div>\n",
       "<style scoped>\n",
       "    .dataframe tbody tr th:only-of-type {\n",
       "        vertical-align: middle;\n",
       "    }\n",
       "\n",
       "    .dataframe tbody tr th {\n",
       "        vertical-align: top;\n",
       "    }\n",
       "\n",
       "    .dataframe thead th {\n",
       "        text-align: right;\n",
       "    }\n",
       "</style>\n",
       "<table border=\"1\" class=\"dataframe\">\n",
       "  <thead>\n",
       "    <tr style=\"text-align: right;\">\n",
       "      <th></th>\n",
       "      <th>title</th>\n",
       "      <th>url</th>\n",
       "      <th>text</th>\n",
       "      <th>dead</th>\n",
       "      <th>by</th>\n",
       "      <th>score</th>\n",
       "      <th>time</th>\n",
       "      <th>timestamp</th>\n",
       "      <th>type</th>\n",
       "      <th>id</th>\n",
       "      <th>parent</th>\n",
       "      <th>descendants</th>\n",
       "      <th>ranking</th>\n",
       "      <th>deleted</th>\n",
       "    </tr>\n",
       "  </thead>\n",
       "  <tbody>\n",
       "    <tr>\n",
       "      <th>0</th>\n",
       "      <td>None</td>\n",
       "      <td>None</td>\n",
       "      <td>None</td>\n",
       "      <td>None</td>\n",
       "      <td>None</td>\n",
       "      <td>NaN</td>\n",
       "      <td>1436815804</td>\n",
       "      <td>2015-07-13 19:30:04+00:00</td>\n",
       "      <td>story</td>\n",
       "      <td>9880449</td>\n",
       "      <td>NaN</td>\n",
       "      <td>NaN</td>\n",
       "      <td>NaN</td>\n",
       "      <td>True</td>\n",
       "    </tr>\n",
       "    <tr>\n",
       "      <th>1</th>\n",
       "      <td>None</td>\n",
       "      <td>None</td>\n",
       "      <td>None</td>\n",
       "      <td>None</td>\n",
       "      <td>None</td>\n",
       "      <td>NaN</td>\n",
       "      <td>1436816431</td>\n",
       "      <td>2015-07-13 19:40:31+00:00</td>\n",
       "      <td>story</td>\n",
       "      <td>9880512</td>\n",
       "      <td>NaN</td>\n",
       "      <td>NaN</td>\n",
       "      <td>NaN</td>\n",
       "      <td>True</td>\n",
       "    </tr>\n",
       "    <tr>\n",
       "      <th>2</th>\n",
       "      <td>None</td>\n",
       "      <td>None</td>\n",
       "      <td>None</td>\n",
       "      <td>None</td>\n",
       "      <td>None</td>\n",
       "      <td>NaN</td>\n",
       "      <td>1436816505</td>\n",
       "      <td>2015-07-13 19:41:45+00:00</td>\n",
       "      <td>story</td>\n",
       "      <td>9880522</td>\n",
       "      <td>NaN</td>\n",
       "      <td>NaN</td>\n",
       "      <td>NaN</td>\n",
       "      <td>True</td>\n",
       "    </tr>\n",
       "    <tr>\n",
       "      <th>3</th>\n",
       "      <td>None</td>\n",
       "      <td>None</td>\n",
       "      <td>None</td>\n",
       "      <td>None</td>\n",
       "      <td>None</td>\n",
       "      <td>NaN</td>\n",
       "      <td>1436816976</td>\n",
       "      <td>2015-07-13 19:49:36+00:00</td>\n",
       "      <td>story</td>\n",
       "      <td>9880569</td>\n",
       "      <td>NaN</td>\n",
       "      <td>NaN</td>\n",
       "      <td>NaN</td>\n",
       "      <td>True</td>\n",
       "    </tr>\n",
       "    <tr>\n",
       "      <th>4</th>\n",
       "      <td>None</td>\n",
       "      <td>None</td>\n",
       "      <td>None</td>\n",
       "      <td>None</td>\n",
       "      <td>None</td>\n",
       "      <td>NaN</td>\n",
       "      <td>1436819024</td>\n",
       "      <td>2015-07-13 20:23:44+00:00</td>\n",
       "      <td>story</td>\n",
       "      <td>9880796</td>\n",
       "      <td>NaN</td>\n",
       "      <td>NaN</td>\n",
       "      <td>NaN</td>\n",
       "      <td>True</td>\n",
       "    </tr>\n",
       "    <tr>\n",
       "      <th>5</th>\n",
       "      <td>None</td>\n",
       "      <td>None</td>\n",
       "      <td>None</td>\n",
       "      <td>None</td>\n",
       "      <td>None</td>\n",
       "      <td>NaN</td>\n",
       "      <td>1436819644</td>\n",
       "      <td>2015-07-13 20:34:04+00:00</td>\n",
       "      <td>story</td>\n",
       "      <td>9880862</td>\n",
       "      <td>NaN</td>\n",
       "      <td>NaN</td>\n",
       "      <td>NaN</td>\n",
       "      <td>True</td>\n",
       "    </tr>\n",
       "    <tr>\n",
       "      <th>6</th>\n",
       "      <td>None</td>\n",
       "      <td>None</td>\n",
       "      <td>None</td>\n",
       "      <td>True</td>\n",
       "      <td>None</td>\n",
       "      <td>NaN</td>\n",
       "      <td>1436819686</td>\n",
       "      <td>2015-07-13 20:34:46+00:00</td>\n",
       "      <td>story</td>\n",
       "      <td>9880865</td>\n",
       "      <td>NaN</td>\n",
       "      <td>NaN</td>\n",
       "      <td>NaN</td>\n",
       "      <td>True</td>\n",
       "    </tr>\n",
       "    <tr>\n",
       "      <th>7</th>\n",
       "      <td>None</td>\n",
       "      <td>None</td>\n",
       "      <td>None</td>\n",
       "      <td>None</td>\n",
       "      <td>None</td>\n",
       "      <td>NaN</td>\n",
       "      <td>1260463974</td>\n",
       "      <td>2009-12-10 16:52:54+00:00</td>\n",
       "      <td>story</td>\n",
       "      <td>988087</td>\n",
       "      <td>NaN</td>\n",
       "      <td>NaN</td>\n",
       "      <td>NaN</td>\n",
       "      <td>True</td>\n",
       "    </tr>\n",
       "    <tr>\n",
       "      <th>8</th>\n",
       "      <td>None</td>\n",
       "      <td>None</td>\n",
       "      <td>None</td>\n",
       "      <td>None</td>\n",
       "      <td>None</td>\n",
       "      <td>NaN</td>\n",
       "      <td>1436820543</td>\n",
       "      <td>2015-07-13 20:49:03+00:00</td>\n",
       "      <td>story</td>\n",
       "      <td>9880964</td>\n",
       "      <td>NaN</td>\n",
       "      <td>NaN</td>\n",
       "      <td>NaN</td>\n",
       "      <td>True</td>\n",
       "    </tr>\n",
       "    <tr>\n",
       "      <th>9</th>\n",
       "      <td>None</td>\n",
       "      <td>None</td>\n",
       "      <td>None</td>\n",
       "      <td>None</td>\n",
       "      <td>None</td>\n",
       "      <td>NaN</td>\n",
       "      <td>1436822220</td>\n",
       "      <td>2015-07-13 21:17:00+00:00</td>\n",
       "      <td>story</td>\n",
       "      <td>9881161</td>\n",
       "      <td>NaN</td>\n",
       "      <td>NaN</td>\n",
       "      <td>NaN</td>\n",
       "      <td>True</td>\n",
       "    </tr>\n",
       "  </tbody>\n",
       "</table>\n",
       "</div>"
      ],
      "text/plain": [
       "  title   url  text  dead    by  score        time                 timestamp  \\\n",
       "0  None  None  None  None  None    NaN  1436815804 2015-07-13 19:30:04+00:00   \n",
       "1  None  None  None  None  None    NaN  1436816431 2015-07-13 19:40:31+00:00   \n",
       "2  None  None  None  None  None    NaN  1436816505 2015-07-13 19:41:45+00:00   \n",
       "3  None  None  None  None  None    NaN  1436816976 2015-07-13 19:49:36+00:00   \n",
       "4  None  None  None  None  None    NaN  1436819024 2015-07-13 20:23:44+00:00   \n",
       "5  None  None  None  None  None    NaN  1436819644 2015-07-13 20:34:04+00:00   \n",
       "6  None  None  None  True  None    NaN  1436819686 2015-07-13 20:34:46+00:00   \n",
       "7  None  None  None  None  None    NaN  1260463974 2009-12-10 16:52:54+00:00   \n",
       "8  None  None  None  None  None    NaN  1436820543 2015-07-13 20:49:03+00:00   \n",
       "9  None  None  None  None  None    NaN  1436822220 2015-07-13 21:17:00+00:00   \n",
       "\n",
       "    type       id  parent  descendants  ranking  deleted  \n",
       "0  story  9880449     NaN          NaN      NaN     True  \n",
       "1  story  9880512     NaN          NaN      NaN     True  \n",
       "2  story  9880522     NaN          NaN      NaN     True  \n",
       "3  story  9880569     NaN          NaN      NaN     True  \n",
       "4  story  9880796     NaN          NaN      NaN     True  \n",
       "5  story  9880862     NaN          NaN      NaN     True  \n",
       "6  story  9880865     NaN          NaN      NaN     True  \n",
       "7  story   988087     NaN          NaN      NaN     True  \n",
       "8  story  9880964     NaN          NaN      NaN     True  \n",
       "9  story  9881161     NaN          NaN      NaN     True  "
      ]
     },
     "execution_count": 2,
     "metadata": {},
     "output_type": "execute_result"
    }
   ],
   "source": [
    "from google.cloud import bigquery\n",
    "\n",
    "# Create a \"Client\" object\n",
    "client = bigquery.Client()\n",
    "\n",
    "# Construct a reference to the \"hacker_news\" dataset\n",
    "dataset_ref = client.dataset(\"hacker_news\", project=\"bigquery-public-data\")\n",
    "\n",
    "# API request - fetch the dataset\n",
    "dataset = client.get_dataset(dataset_ref)\n",
    "\n",
    "# Construct a reference to the \"full\" table\n",
    "table_ref = dataset_ref.table(\"full\")\n",
    "\n",
    "# API request - fetch the table\n",
    "table = client.get_table(table_ref)\n",
    "\n",
    "# Preview the first five lines of the table\n",
    "client.list_rows(table, max_results=10).to_dataframe()"
   ]
  },
  {
   "cell_type": "markdown",
   "id": "9ce73744",
   "metadata": {
    "papermill": {
     "duration": 0.004287,
     "end_time": "2024-09-05T14:13:30.383031",
     "exception": false,
     "start_time": "2024-09-05T14:13:30.378744",
     "status": "completed"
    },
    "tags": []
   },
   "source": [
    "# Exercises\n",
    "\n",
    "### 1) Prolific commenters\n",
    "\n",
    "Hacker News would like to send awards to everyone who has written more than 10,000 posts. Write a query that returns all authors with more than 10,000 posts as well as their post counts. Call the column with post counts `NumPosts`.\n",
    "\n",
    "In case sample query is helpful, here is a query you saw in the tutorial to answer a similar question:\n",
    "```\n",
    "query = \"\"\"\n",
    "        SELECT parent, COUNT(1) AS NumPosts\n",
    "        FROM `bigquery-public-data.hacker_news.full`\n",
    "        GROUP BY parent\n",
    "        HAVING COUNT(1) > 10\n",
    "        \"\"\"\n",
    "```"
   ]
  },
  {
   "cell_type": "code",
   "execution_count": 3,
   "id": "f2c33b1e",
   "metadata": {
    "execution": {
     "iopub.execute_input": "2024-09-05T14:13:30.393780Z",
     "iopub.status.busy": "2024-09-05T14:13:30.393381Z",
     "iopub.status.idle": "2024-09-05T14:13:31.616580Z",
     "shell.execute_reply": "2024-09-05T14:13:31.615520Z"
    },
    "papermill": {
     "duration": 1.231337,
     "end_time": "2024-09-05T14:13:31.618895",
     "exception": false,
     "start_time": "2024-09-05T14:13:30.387558",
     "status": "completed"
    },
    "tags": []
   },
   "outputs": [
    {
     "name": "stdout",
     "output_type": "stream",
     "text": [
      "        author  NumPosts\n",
      "0       Retric     27020\n",
      "1         dmix     11364\n",
      "2       nailer     10702\n",
      "3  maxerickson     18259\n",
      "4         dang     71968\n"
     ]
    },
    {
     "data": {
      "application/javascript": [
       "parent.postMessage({\"jupyterEvent\": \"custom.exercise_interaction\", \"data\": {\"outcomeType\": 1, \"valueTowardsCompletion\": 0.5, \"interactionType\": 1, \"questionType\": 2, \"questionId\": \"1_ProlificCommenters\", \"learnToolsVersion\": \"0.3.4\", \"failureMessage\": \"\", \"exceptionClass\": \"\", \"trace\": \"\"}}, \"*\")"
      ],
      "text/plain": [
       "<IPython.core.display.Javascript object>"
      ]
     },
     "metadata": {},
     "output_type": "display_data"
    },
    {
     "data": {
      "text/markdown": [
       "<span style=\"color:#33cc33\">Correct</span>"
      ],
      "text/plain": [
       "Correct"
      ]
     },
     "metadata": {},
     "output_type": "display_data"
    }
   ],
   "source": [
    "# Query to select prolific commenters and post counts\n",
    "prolific_commenters_query = \"\"\"\n",
    "        SELECT `by` AS author, COUNT(1) AS NumPosts\n",
    "        FROM `bigquery-public-data.hacker_news.full`\n",
    "        GROUP BY author\n",
    "        HAVING COUNT(1) > 10000\n",
    "        \"\"\" # Your code goes here\n",
    "\n",
    "# Set up the query (cancel the query if it would use too much of \n",
    "# your quota, with the limit set to 1 GB)\n",
    "safe_config = bigquery.QueryJobConfig(maximum_bytes_billed=10**10)\n",
    "query_job = client.query(prolific_commenters_query, job_config=safe_config)\n",
    "\n",
    "# API request - run the query, and return a pandas DataFrame\n",
    "prolific_commenters = query_job.to_dataframe()\n",
    "\n",
    "# View top few rows of results\n",
    "print(prolific_commenters.head())\n",
    "\n",
    "# Check your answer\n",
    "q_1.check()"
   ]
  },
  {
   "cell_type": "markdown",
   "id": "96b73794",
   "metadata": {
    "papermill": {
     "duration": 0.004637,
     "end_time": "2024-09-05T14:13:31.628687",
     "exception": false,
     "start_time": "2024-09-05T14:13:31.624050",
     "status": "completed"
    },
    "tags": []
   },
   "source": [
    "For the solution, uncomment the line below."
   ]
  },
  {
   "cell_type": "code",
   "execution_count": 4,
   "id": "a95f9db3",
   "metadata": {
    "execution": {
     "iopub.execute_input": "2024-09-05T14:13:31.640182Z",
     "iopub.status.busy": "2024-09-05T14:13:31.639759Z",
     "iopub.status.idle": "2024-09-05T14:13:31.644611Z",
     "shell.execute_reply": "2024-09-05T14:13:31.643318Z"
    },
    "papermill": {
     "duration": 0.013347,
     "end_time": "2024-09-05T14:13:31.646995",
     "exception": false,
     "start_time": "2024-09-05T14:13:31.633648",
     "status": "completed"
    },
    "tags": []
   },
   "outputs": [],
   "source": [
    "#q_1.solution()"
   ]
  },
  {
   "cell_type": "markdown",
   "id": "9bb93559",
   "metadata": {
    "papermill": {
     "duration": 0.004677,
     "end_time": "2024-09-05T14:13:31.656645",
     "exception": false,
     "start_time": "2024-09-05T14:13:31.651968",
     "status": "completed"
    },
    "tags": []
   },
   "source": [
    "### 2) Deleted comments\n",
    "\n",
    "How many comments have been deleted? (If a comment was deleted, the `deleted` column in the table will have the value `True`.)"
   ]
  },
  {
   "cell_type": "code",
   "execution_count": 5,
   "id": "b512ee12",
   "metadata": {
    "execution": {
     "iopub.execute_input": "2024-09-05T14:13:31.668241Z",
     "iopub.status.busy": "2024-09-05T14:13:31.667843Z",
     "iopub.status.idle": "2024-09-05T14:13:32.822047Z",
     "shell.execute_reply": "2024-09-05T14:13:32.820631Z"
    },
    "papermill": {
     "duration": 1.163057,
     "end_time": "2024-09-05T14:13:32.824706",
     "exception": false,
     "start_time": "2024-09-05T14:13:31.661649",
     "status": "completed"
    },
    "tags": []
   },
   "outputs": [
    {
     "name": "stdout",
     "output_type": "stream",
     "text": [
      "   num_deleted_posts\n",
      "0            1212622\n"
     ]
    }
   ],
   "source": [
    "# Write your query here and figure out the answer\n",
    "# Query to determine how many posts were deleted\n",
    "deleted_posts_query = \"\"\"\n",
    "                      SELECT COUNT(1) AS num_deleted_posts\n",
    "                      FROM `bigquery-public-data.hacker_news.full`\n",
    "                      WHERE deleted = True\n",
    "                      \"\"\"\n",
    "\n",
    "# Set up the query\n",
    "query_job = client.query(deleted_posts_query)\n",
    "\n",
    "# API request - run the query, and return a pandas DataFrame\n",
    "deleted_posts = query_job.to_dataframe()\n",
    "\n",
    "# View results\n",
    "print(deleted_posts)"
   ]
  },
  {
   "cell_type": "code",
   "execution_count": 6,
   "id": "2188f833",
   "metadata": {
    "execution": {
     "iopub.execute_input": "2024-09-05T14:13:32.836354Z",
     "iopub.status.busy": "2024-09-05T14:13:32.835971Z",
     "iopub.status.idle": "2024-09-05T14:13:32.844995Z",
     "shell.execute_reply": "2024-09-05T14:13:32.843908Z"
    },
    "papermill": {
     "duration": 0.017508,
     "end_time": "2024-09-05T14:13:32.847297",
     "exception": false,
     "start_time": "2024-09-05T14:13:32.829789",
     "status": "completed"
    },
    "tags": []
   },
   "outputs": [
    {
     "data": {
      "application/javascript": [
       "parent.postMessage({\"jupyterEvent\": \"custom.exercise_interaction\", \"data\": {\"outcomeType\": 1, \"valueTowardsCompletion\": 0.5, \"interactionType\": 1, \"questionType\": 1, \"questionId\": \"2_NumDeletedPosts\", \"learnToolsVersion\": \"0.3.4\", \"failureMessage\": \"\", \"exceptionClass\": \"\", \"trace\": \"\"}}, \"*\")"
      ],
      "text/plain": [
       "<IPython.core.display.Javascript object>"
      ]
     },
     "metadata": {},
     "output_type": "display_data"
    },
    {
     "data": {
      "text/markdown": [
       "<span style=\"color:#33cc33\">Correct</span>"
      ],
      "text/plain": [
       "Correct"
      ]
     },
     "metadata": {},
     "output_type": "display_data"
    }
   ],
   "source": [
    "num_deleted_posts =  1212622 # Put your answer here\n",
    "\n",
    "# Check your answer\n",
    "q_2.check()"
   ]
  },
  {
   "cell_type": "markdown",
   "id": "bca1003c",
   "metadata": {
    "papermill": {
     "duration": 0.004986,
     "end_time": "2024-09-05T14:13:32.857594",
     "exception": false,
     "start_time": "2024-09-05T14:13:32.852608",
     "status": "completed"
    },
    "tags": []
   },
   "source": [
    "For the solution, uncomment the line below."
   ]
  },
  {
   "cell_type": "code",
   "execution_count": 7,
   "id": "89b2edc0",
   "metadata": {
    "execution": {
     "iopub.execute_input": "2024-09-05T14:13:32.870122Z",
     "iopub.status.busy": "2024-09-05T14:13:32.869276Z",
     "iopub.status.idle": "2024-09-05T14:13:32.874011Z",
     "shell.execute_reply": "2024-09-05T14:13:32.872954Z"
    },
    "papermill": {
     "duration": 0.013561,
     "end_time": "2024-09-05T14:13:32.876356",
     "exception": false,
     "start_time": "2024-09-05T14:13:32.862795",
     "status": "completed"
    },
    "tags": []
   },
   "outputs": [],
   "source": [
    "#q_2.solution()"
   ]
  },
  {
   "cell_type": "markdown",
   "id": "bf1c4b0f",
   "metadata": {
    "papermill": {
     "duration": 0.005012,
     "end_time": "2024-09-05T14:13:32.886794",
     "exception": false,
     "start_time": "2024-09-05T14:13:32.881782",
     "status": "completed"
    },
    "tags": []
   },
   "source": [
    "# Keep Going\n",
    "**[Click here](https://www.kaggle.com/dansbecker/order-by)** to move on and learn about the **ORDER BY** clause."
   ]
  },
  {
   "cell_type": "markdown",
   "id": "6830a37c",
   "metadata": {
    "papermill": {
     "duration": 0.004893,
     "end_time": "2024-09-05T14:13:32.897918",
     "exception": false,
     "start_time": "2024-09-05T14:13:32.893025",
     "status": "completed"
    },
    "tags": []
   },
   "source": [
    "---\n",
    "\n",
    "\n",
    "\n",
    "\n",
    "*Have questions or comments? Visit the [course discussion forum](https://www.kaggle.com/learn/intro-to-sql/discussion) to chat with other learners.*"
   ]
  }
 ],
 "metadata": {
  "kaggle": {
   "accelerator": "none",
   "dataSources": [
    {
     "datasetId": 6057,
     "sourceId": 285982,
     "sourceType": "datasetVersion"
    }
   ],
   "isGpuEnabled": false,
   "isInternetEnabled": false,
   "language": "python",
   "sourceType": "notebook"
  },
  "kernelspec": {
   "display_name": "Python 3",
   "language": "python",
   "name": "python3"
  },
  "language_info": {
   "codemirror_mode": {
    "name": "ipython",
    "version": 3
   },
   "file_extension": ".py",
   "mimetype": "text/x-python",
   "name": "python",
   "nbconvert_exporter": "python",
   "pygments_lexer": "ipython3",
   "version": "3.10.14"
  },
  "papermill": {
   "default_parameters": {},
   "duration": 16.292315,
   "end_time": "2024-09-05T14:13:33.725139",
   "environment_variables": {},
   "exception": null,
   "input_path": "__notebook__.ipynb",
   "output_path": "__notebook__.ipynb",
   "parameters": {},
   "start_time": "2024-09-05T14:13:17.432824",
   "version": "2.6.0"
  }
 },
 "nbformat": 4,
 "nbformat_minor": 5
}
