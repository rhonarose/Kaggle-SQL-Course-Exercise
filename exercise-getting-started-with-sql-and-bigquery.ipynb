{
 "cells": [
  {
   "cell_type": "markdown",
   "id": "73f57358",
   "metadata": {
    "papermill": {
     "duration": 0.008181,
     "end_time": "2024-09-05T12:17:48.532531",
     "exception": false,
     "start_time": "2024-09-05T12:17:48.524350",
     "status": "completed"
    },
    "tags": []
   },
   "source": [
    "**This notebook is an exercise in the [SQL](https://www.kaggle.com/learn/intro-to-sql) course.  You can reference the tutorial at [this link](https://www.kaggle.com/dansbecker/getting-started-with-sql-and-bigquery).**\n",
    "\n",
    "---\n"
   ]
  },
  {
   "cell_type": "markdown",
   "id": "b18a2c17",
   "metadata": {
    "papermill": {
     "duration": 0.006959,
     "end_time": "2024-09-05T12:17:48.546934",
     "exception": false,
     "start_time": "2024-09-05T12:17:48.539975",
     "status": "completed"
    },
    "tags": []
   },
   "source": [
    "# Introduction\n",
    "\n",
    "The first test of your new data exploration skills uses data describing crime in the city of Chicago.\n",
    "\n",
    "Before you get started, run the following cell. It sets up the automated feedback system to review your answers."
   ]
  },
  {
   "cell_type": "code",
   "execution_count": 1,
   "id": "90f4ddf0",
   "metadata": {
    "execution": {
     "iopub.execute_input": "2024-09-05T12:17:48.563263Z",
     "iopub.status.busy": "2024-09-05T12:17:48.562791Z",
     "iopub.status.idle": "2024-09-05T12:17:56.504315Z",
     "shell.execute_reply": "2024-09-05T12:17:56.502921Z"
    },
    "papermill": {
     "duration": 7.952784,
     "end_time": "2024-09-05T12:17:56.506992",
     "exception": false,
     "start_time": "2024-09-05T12:17:48.554208",
     "status": "completed"
    },
    "tags": []
   },
   "outputs": [
    {
     "name": "stdout",
     "output_type": "stream",
     "text": [
      "Using Kaggle's public dataset BigQuery integration.\n",
      "Setup Complete\n"
     ]
    }
   ],
   "source": [
    "# Set up feedack system\n",
    "from learntools.core import binder\n",
    "binder.bind(globals())\n",
    "from learntools.sql.ex1 import *\n",
    "print(\"Setup Complete\")"
   ]
  },
  {
   "cell_type": "markdown",
   "id": "42a63ec9",
   "metadata": {
    "papermill": {
     "duration": 0.00719,
     "end_time": "2024-09-05T12:17:56.521970",
     "exception": false,
     "start_time": "2024-09-05T12:17:56.514780",
     "status": "completed"
    },
    "tags": []
   },
   "source": [
    "Use the next code cell to fetch the dataset."
   ]
  },
  {
   "cell_type": "code",
   "execution_count": 2,
   "id": "fd684186",
   "metadata": {
    "execution": {
     "iopub.execute_input": "2024-09-05T12:17:56.539109Z",
     "iopub.status.busy": "2024-09-05T12:17:56.538503Z",
     "iopub.status.idle": "2024-09-05T12:17:57.524201Z",
     "shell.execute_reply": "2024-09-05T12:17:57.523298Z"
    },
    "papermill": {
     "duration": 0.997179,
     "end_time": "2024-09-05T12:17:57.526911",
     "exception": false,
     "start_time": "2024-09-05T12:17:56.529732",
     "status": "completed"
    },
    "tags": []
   },
   "outputs": [
    {
     "name": "stdout",
     "output_type": "stream",
     "text": [
      "Using Kaggle's public dataset BigQuery integration.\n"
     ]
    }
   ],
   "source": [
    "from google.cloud import bigquery\n",
    "\n",
    "# Create a \"Client\" object\n",
    "client = bigquery.Client()\n",
    "\n",
    "# Construct a reference to the \"chicago_crime\" dataset\n",
    "dataset_ref = client.dataset(\"chicago_crime\", project=\"bigquery-public-data\")\n",
    "\n",
    "# API request - fetch the dataset\n",
    "dataset = client.get_dataset(dataset_ref)"
   ]
  },
  {
   "cell_type": "markdown",
   "id": "25bb13a0",
   "metadata": {
    "papermill": {
     "duration": 0.007173,
     "end_time": "2024-09-05T12:17:57.541644",
     "exception": false,
     "start_time": "2024-09-05T12:17:57.534471",
     "status": "completed"
    },
    "tags": []
   },
   "source": [
    "# Exercises\n",
    "\n",
    "### 1) Count tables in the dataset\n",
    "\n",
    "How many tables are in the Chicago Crime dataset?"
   ]
  },
  {
   "cell_type": "code",
   "execution_count": 3,
   "id": "8d0dfc6c",
   "metadata": {
    "execution": {
     "iopub.execute_input": "2024-09-05T12:17:57.558720Z",
     "iopub.status.busy": "2024-09-05T12:17:57.557978Z",
     "iopub.status.idle": "2024-09-05T12:17:58.530828Z",
     "shell.execute_reply": "2024-09-05T12:17:58.529629Z"
    },
    "papermill": {
     "duration": 0.984555,
     "end_time": "2024-09-05T12:17:58.533449",
     "exception": false,
     "start_time": "2024-09-05T12:17:57.548894",
     "status": "completed"
    },
    "tags": []
   },
   "outputs": [
    {
     "name": "stdout",
     "output_type": "stream",
     "text": [
      "1\n"
     ]
    }
   ],
   "source": [
    "# Write the code you need here to figure out the answer\n",
    "# List all the tables in the dataset\n",
    "tables = list(client.list_tables(dataset)) \n",
    "\n",
    "for table in tables:  \n",
    "    print(len(tables))"
   ]
  },
  {
   "cell_type": "code",
   "execution_count": 4,
   "id": "3152c260",
   "metadata": {
    "execution": {
     "iopub.execute_input": "2024-09-05T12:17:58.550649Z",
     "iopub.status.busy": "2024-09-05T12:17:58.550239Z",
     "iopub.status.idle": "2024-09-05T12:17:58.562322Z",
     "shell.execute_reply": "2024-09-05T12:17:58.561181Z"
    },
    "papermill": {
     "duration": 0.023461,
     "end_time": "2024-09-05T12:17:58.564508",
     "exception": false,
     "start_time": "2024-09-05T12:17:58.541047",
     "status": "completed"
    },
    "tags": []
   },
   "outputs": [
    {
     "data": {
      "application/javascript": "parent.postMessage({\"jupyterEvent\": \"custom.exercise_interaction\", \"data\": {\"outcomeType\": 1, \"valueTowardsCompletion\": 0.3333333333333333, \"interactionType\": 1, \"questionType\": 1, \"questionId\": \"1_CountTables\", \"learnToolsVersion\": \"0.3.4\", \"failureMessage\": \"\", \"exceptionClass\": \"\", \"trace\": \"\"}}, \"*\")",
      "text/plain": [
       "<IPython.core.display.Javascript object>"
      ]
     },
     "metadata": {},
     "output_type": "display_data"
    },
    {
     "data": {
      "text/markdown": [
       "<span style=\"color:#33cc33\">Correct</span>"
      ],
      "text/plain": [
       "Correct"
      ]
     },
     "metadata": {},
     "output_type": "display_data"
    }
   ],
   "source": [
    "num_tables = 1  # Store the answer as num_tables and then run this cell\n",
    "\n",
    "# Check your answer\n",
    "q_1.check()"
   ]
  },
  {
   "cell_type": "markdown",
   "id": "3166a633",
   "metadata": {
    "papermill": {
     "duration": 0.007584,
     "end_time": "2024-09-05T12:17:58.579958",
     "exception": false,
     "start_time": "2024-09-05T12:17:58.572374",
     "status": "completed"
    },
    "tags": []
   },
   "source": [
    "For a hint or the solution, uncomment the appropriate line below."
   ]
  },
  {
   "cell_type": "code",
   "execution_count": 5,
   "id": "93afb840",
   "metadata": {
    "execution": {
     "iopub.execute_input": "2024-09-05T12:17:58.598222Z",
     "iopub.status.busy": "2024-09-05T12:17:58.596894Z",
     "iopub.status.idle": "2024-09-05T12:17:58.601970Z",
     "shell.execute_reply": "2024-09-05T12:17:58.601048Z"
    },
    "papermill": {
     "duration": 0.016662,
     "end_time": "2024-09-05T12:17:58.604365",
     "exception": false,
     "start_time": "2024-09-05T12:17:58.587703",
     "status": "completed"
    },
    "tags": []
   },
   "outputs": [],
   "source": [
    "#q_1.hint()\n",
    "#q_1.solution()"
   ]
  },
  {
   "cell_type": "markdown",
   "id": "3b0d95d2",
   "metadata": {
    "papermill": {
     "duration": 0.007846,
     "end_time": "2024-09-05T12:17:58.620245",
     "exception": false,
     "start_time": "2024-09-05T12:17:58.612399",
     "status": "completed"
    },
    "tags": []
   },
   "source": [
    "### 2) Explore the table schema\n",
    "\n",
    "How many columns in the `crime` table have `TIMESTAMP` data?"
   ]
  },
  {
   "cell_type": "code",
   "execution_count": 6,
   "id": "032c8a20",
   "metadata": {
    "execution": {
     "iopub.execute_input": "2024-09-05T12:17:58.638015Z",
     "iopub.status.busy": "2024-09-05T12:17:58.637265Z",
     "iopub.status.idle": "2024-09-05T12:17:59.040135Z",
     "shell.execute_reply": "2024-09-05T12:17:59.039014Z"
    },
    "papermill": {
     "duration": 0.414464,
     "end_time": "2024-09-05T12:17:59.042510",
     "exception": false,
     "start_time": "2024-09-05T12:17:58.628046",
     "status": "completed"
    },
    "tags": []
   },
   "outputs": [
    {
     "data": {
      "text/plain": [
       "[SchemaField('unique_key', 'INTEGER', 'REQUIRED', None, (), None),\n",
       " SchemaField('case_number', 'STRING', 'NULLABLE', None, (), None),\n",
       " SchemaField('date', 'TIMESTAMP', 'NULLABLE', None, (), None),\n",
       " SchemaField('block', 'STRING', 'NULLABLE', None, (), None),\n",
       " SchemaField('iucr', 'STRING', 'NULLABLE', None, (), None),\n",
       " SchemaField('primary_type', 'STRING', 'NULLABLE', None, (), None),\n",
       " SchemaField('description', 'STRING', 'NULLABLE', None, (), None),\n",
       " SchemaField('location_description', 'STRING', 'NULLABLE', None, (), None),\n",
       " SchemaField('arrest', 'BOOLEAN', 'NULLABLE', None, (), None),\n",
       " SchemaField('domestic', 'BOOLEAN', 'NULLABLE', None, (), None),\n",
       " SchemaField('beat', 'INTEGER', 'NULLABLE', None, (), None),\n",
       " SchemaField('district', 'INTEGER', 'NULLABLE', None, (), None),\n",
       " SchemaField('ward', 'INTEGER', 'NULLABLE', None, (), None),\n",
       " SchemaField('community_area', 'INTEGER', 'NULLABLE', None, (), None),\n",
       " SchemaField('fbi_code', 'STRING', 'NULLABLE', None, (), None),\n",
       " SchemaField('x_coordinate', 'FLOAT', 'NULLABLE', None, (), None),\n",
       " SchemaField('y_coordinate', 'FLOAT', 'NULLABLE', None, (), None),\n",
       " SchemaField('year', 'INTEGER', 'NULLABLE', None, (), None),\n",
       " SchemaField('updated_on', 'TIMESTAMP', 'NULLABLE', None, (), None),\n",
       " SchemaField('latitude', 'FLOAT', 'NULLABLE', None, (), None),\n",
       " SchemaField('longitude', 'FLOAT', 'NULLABLE', None, (), None),\n",
       " SchemaField('location', 'STRING', 'NULLABLE', None, (), None)]"
      ]
     },
     "execution_count": 6,
     "metadata": {},
     "output_type": "execute_result"
    }
   ],
   "source": [
    "# Write the code to figure out the answer\n",
    "# Construct a reference to the \"crime\" table\n",
    "table_ref = dataset_ref.table(\"crime\")\n",
    "\n",
    "# API request - fetch the table\n",
    "table = client.get_table(table_ref)\n",
    "\n",
    "table.schema"
   ]
  },
  {
   "cell_type": "code",
   "execution_count": 7,
   "id": "fb2c3e03",
   "metadata": {
    "execution": {
     "iopub.execute_input": "2024-09-05T12:17:59.060643Z",
     "iopub.status.busy": "2024-09-05T12:17:59.060242Z",
     "iopub.status.idle": "2024-09-05T12:17:59.071644Z",
     "shell.execute_reply": "2024-09-05T12:17:59.070333Z"
    },
    "papermill": {
     "duration": 0.023355,
     "end_time": "2024-09-05T12:17:59.073985",
     "exception": false,
     "start_time": "2024-09-05T12:17:59.050630",
     "status": "completed"
    },
    "tags": []
   },
   "outputs": [
    {
     "data": {
      "application/javascript": "parent.postMessage({\"jupyterEvent\": \"custom.exercise_interaction\", \"data\": {\"outcomeType\": 1, \"valueTowardsCompletion\": 0.3333333333333333, \"interactionType\": 1, \"questionType\": 1, \"questionId\": \"2_CountTimestampFields\", \"learnToolsVersion\": \"0.3.4\", \"failureMessage\": \"\", \"exceptionClass\": \"\", \"trace\": \"\"}}, \"*\")",
      "text/plain": [
       "<IPython.core.display.Javascript object>"
      ]
     },
     "metadata": {},
     "output_type": "display_data"
    },
    {
     "data": {
      "text/markdown": [
       "<span style=\"color:#33cc33\">Correct</span>"
      ],
      "text/plain": [
       "Correct"
      ]
     },
     "metadata": {},
     "output_type": "display_data"
    }
   ],
   "source": [
    "num_timestamp_fields = 2 # Put your answer here\n",
    "\n",
    "# Check your answer\n",
    "q_2.check()"
   ]
  },
  {
   "cell_type": "markdown",
   "id": "8f468a28",
   "metadata": {
    "papermill": {
     "duration": 0.008106,
     "end_time": "2024-09-05T12:17:59.090757",
     "exception": false,
     "start_time": "2024-09-05T12:17:59.082651",
     "status": "completed"
    },
    "tags": []
   },
   "source": [
    "For a hint or the solution, uncomment the appropriate line below."
   ]
  },
  {
   "cell_type": "code",
   "execution_count": 8,
   "id": "0146bc87",
   "metadata": {
    "execution": {
     "iopub.execute_input": "2024-09-05T12:17:59.110110Z",
     "iopub.status.busy": "2024-09-05T12:17:59.109101Z",
     "iopub.status.idle": "2024-09-05T12:17:59.113885Z",
     "shell.execute_reply": "2024-09-05T12:17:59.112832Z"
    },
    "papermill": {
     "duration": 0.016758,
     "end_time": "2024-09-05T12:17:59.116030",
     "exception": false,
     "start_time": "2024-09-05T12:17:59.099272",
     "status": "completed"
    },
    "tags": []
   },
   "outputs": [],
   "source": [
    "#q_2.hint()\n",
    "#q_2.solution()"
   ]
  },
  {
   "cell_type": "markdown",
   "id": "3f0bc016",
   "metadata": {
    "papermill": {
     "duration": 0.008042,
     "end_time": "2024-09-05T12:17:59.132425",
     "exception": false,
     "start_time": "2024-09-05T12:17:59.124383",
     "status": "completed"
    },
    "tags": []
   },
   "source": [
    "### 3) Create a crime map\n",
    "\n",
    "If you wanted to create a map with a dot at the location of each crime, what are the names of the two fields you likely need to pull out of the `crime` table to plot the crimes on a map?"
   ]
  },
  {
   "cell_type": "code",
   "execution_count": 9,
   "id": "519f65f2",
   "metadata": {
    "execution": {
     "iopub.execute_input": "2024-09-05T12:17:59.151024Z",
     "iopub.status.busy": "2024-09-05T12:17:59.150299Z",
     "iopub.status.idle": "2024-09-05T12:17:59.155211Z",
     "shell.execute_reply": "2024-09-05T12:17:59.154141Z"
    },
    "papermill": {
     "duration": 0.01669,
     "end_time": "2024-09-05T12:17:59.157417",
     "exception": false,
     "start_time": "2024-09-05T12:17:59.140727",
     "status": "completed"
    },
    "tags": []
   },
   "outputs": [],
   "source": [
    "# Write the code here to explore the data so you can find the answer"
   ]
  },
  {
   "cell_type": "code",
   "execution_count": 10,
   "id": "b980590b",
   "metadata": {
    "execution": {
     "iopub.execute_input": "2024-09-05T12:17:59.175572Z",
     "iopub.status.busy": "2024-09-05T12:17:59.175186Z",
     "iopub.status.idle": "2024-09-05T12:17:59.184807Z",
     "shell.execute_reply": "2024-09-05T12:17:59.183674Z"
    },
    "papermill": {
     "duration": 0.021311,
     "end_time": "2024-09-05T12:17:59.187065",
     "exception": false,
     "start_time": "2024-09-05T12:17:59.165754",
     "status": "completed"
    },
    "tags": []
   },
   "outputs": [
    {
     "data": {
      "application/javascript": "parent.postMessage({\"jupyterEvent\": \"custom.exercise_interaction\", \"data\": {\"outcomeType\": 1, \"valueTowardsCompletion\": 0.3333333333333333, \"interactionType\": 1, \"questionType\": 2, \"questionId\": \"3_IdentifyFieldsForPlotting\", \"learnToolsVersion\": \"0.3.4\", \"failureMessage\": \"\", \"exceptionClass\": \"\", \"trace\": \"\"}}, \"*\")",
      "text/plain": [
       "<IPython.core.display.Javascript object>"
      ]
     },
     "metadata": {},
     "output_type": "display_data"
    },
    {
     "data": {
      "text/markdown": [
       "<span style=\"color:#33cc33\">Correct</span>"
      ],
      "text/plain": [
       "Correct"
      ]
     },
     "metadata": {},
     "output_type": "display_data"
    }
   ],
   "source": [
    "fields_for_plotting = ['latitude', 'longitude'] # Put your answers here\n",
    "\n",
    "# Check your answer\n",
    "q_3.check()"
   ]
  },
  {
   "cell_type": "markdown",
   "id": "3b94ef90",
   "metadata": {
    "papermill": {
     "duration": 0.008371,
     "end_time": "2024-09-05T12:17:59.204033",
     "exception": false,
     "start_time": "2024-09-05T12:17:59.195662",
     "status": "completed"
    },
    "tags": []
   },
   "source": [
    "For a hint or the solution, uncomment the appropriate line below."
   ]
  },
  {
   "cell_type": "code",
   "execution_count": 11,
   "id": "3f2451cb",
   "metadata": {
    "execution": {
     "iopub.execute_input": "2024-09-05T12:17:59.224110Z",
     "iopub.status.busy": "2024-09-05T12:17:59.223205Z",
     "iopub.status.idle": "2024-09-05T12:17:59.227833Z",
     "shell.execute_reply": "2024-09-05T12:17:59.226896Z"
    },
    "papermill": {
     "duration": 0.016902,
     "end_time": "2024-09-05T12:17:59.230150",
     "exception": false,
     "start_time": "2024-09-05T12:17:59.213248",
     "status": "completed"
    },
    "tags": []
   },
   "outputs": [],
   "source": [
    "#q_3.hint()\n",
    "#q_3.solution()"
   ]
  },
  {
   "cell_type": "markdown",
   "id": "c2f7fc56",
   "metadata": {
    "papermill": {
     "duration": 0.008191,
     "end_time": "2024-09-05T12:17:59.247043",
     "exception": false,
     "start_time": "2024-09-05T12:17:59.238852",
     "status": "completed"
    },
    "tags": []
   },
   "source": [
    "Thinking about the question above, there are a few columns that appear to have geographic data. Look at a few values (with the `list_rows()` command) to see if you can determine their relationship.  Two columns will still be hard to interpret. But it should be obvious how the `location` column relates to `latitude` and `longitude`."
   ]
  },
  {
   "cell_type": "code",
   "execution_count": 12,
   "id": "301fe4db",
   "metadata": {
    "execution": {
     "iopub.execute_input": "2024-09-05T12:17:59.265789Z",
     "iopub.status.busy": "2024-09-05T12:17:59.265384Z",
     "iopub.status.idle": "2024-09-05T12:17:59.270368Z",
     "shell.execute_reply": "2024-09-05T12:17:59.269227Z"
    },
    "papermill": {
     "duration": 0.017166,
     "end_time": "2024-09-05T12:17:59.272717",
     "exception": false,
     "start_time": "2024-09-05T12:17:59.255551",
     "status": "completed"
    },
    "tags": []
   },
   "outputs": [],
   "source": [
    "# Scratch space for your code"
   ]
  },
  {
   "cell_type": "markdown",
   "id": "26b97690",
   "metadata": {
    "papermill": {
     "duration": 0.008412,
     "end_time": "2024-09-05T12:17:59.290250",
     "exception": false,
     "start_time": "2024-09-05T12:17:59.281838",
     "status": "completed"
    },
    "tags": []
   },
   "source": [
    "# Keep going\n",
    "\n",
    "You've looked at the schema, but you haven't yet done anything exciting with the data itself. Things get more interesting when you get to the data, so keep going to **[write your first SQL query](https://www.kaggle.com/dansbecker/select-from-where).**"
   ]
  },
  {
   "cell_type": "markdown",
   "id": "6646af67",
   "metadata": {
    "papermill": {
     "duration": 0.008487,
     "end_time": "2024-09-05T12:17:59.307414",
     "exception": false,
     "start_time": "2024-09-05T12:17:59.298927",
     "status": "completed"
    },
    "tags": []
   },
   "source": [
    "---\n",
    "\n",
    "\n",
    "\n",
    "\n",
    "*Have questions or comments? Visit the [course discussion forum](https://www.kaggle.com/learn/intro-to-sql/discussion) to chat with other learners.*"
   ]
  }
 ],
 "metadata": {
  "kaggle": {
   "accelerator": "none",
   "dataSources": [
    {
     "datasetId": 22090,
     "sourceId": 28376,
     "sourceType": "datasetVersion"
    },
    {
     "datasetId": 6057,
     "sourceId": 285982,
     "sourceType": "datasetVersion"
    }
   ],
   "isGpuEnabled": false,
   "isInternetEnabled": false,
   "language": "python",
   "sourceType": "notebook"
  },
  "kernelspec": {
   "display_name": "Python 3",
   "language": "python",
   "name": "python3"
  },
  "language_info": {
   "codemirror_mode": {
    "name": "ipython",
    "version": 3
   },
   "file_extension": ".py",
   "mimetype": "text/x-python",
   "name": "python",
   "nbconvert_exporter": "python",
   "pygments_lexer": "ipython3",
   "version": "3.10.14"
  },
  "papermill": {
   "default_parameters": {},
   "duration": 14.339231,
   "end_time": "2024-09-05T12:18:00.037726",
   "environment_variables": {},
   "exception": null,
   "input_path": "__notebook__.ipynb",
   "output_path": "__notebook__.ipynb",
   "parameters": {},
   "start_time": "2024-09-05T12:17:45.698495",
   "version": "2.6.0"
  }
 },
 "nbformat": 4,
 "nbformat_minor": 5
}
